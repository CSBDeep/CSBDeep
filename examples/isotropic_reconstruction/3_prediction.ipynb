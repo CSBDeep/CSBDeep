{
 "cells": [
  {
   "cell_type": "markdown",
   "metadata": {},
   "source": [
    "<hr style=\"height:2px;\">\n",
    "\n",
    "# Demo: Apply trained CARE model for isotropic reconstruction of Zebrafish retina\n",
    "\n",
    "This notebook demonstrates applying a CARE model for an isotropic reconstruction task, assuming that training was already completed via [2_training.ipynb](2_training.ipynb).  \n",
    "The trained model is assumed to be located in the folder `models` with the name `my_model`.\n",
    "\n",
    "**Note:** The CARE model is here applied to the same image that the model was trained on.  \n",
    "Of course, in practice one would typically use it to restore images that the model hasn't seen during training.\n",
    "\n",
    "More documentation is available at http://csbdeep.bioimagecomputing.com/doc/."
   ]
  },
  {
   "cell_type": "code",
   "execution_count": null,
   "metadata": {},
   "outputs": [],
   "source": [
    "from __future__ import print_function, unicode_literals, absolute_import, division\n",
    "import numpy as np\n",
    "import matplotlib.pyplot as plt\n",
    "%matplotlib inline\n",
    "%config InlineBackend.figure_format = 'retina'\n",
    "\n",
    "from tifffile import imread\n",
    "from scipy.ndimage import zoom\n",
    "from csbdeep.utils import Path, download_and_extract_zip_file, plot_some\n",
    "from csbdeep.io import save_tiff_imagej_compatible\n",
    "from csbdeep.models import IsotropicCARE"
   ]
  },
  {
   "cell_type": "markdown",
   "metadata": {},
   "source": [
    "<hr style=\"height:2px;\">\n",
    "\n",
    "# Download example data\n",
    "\n",
    "The example data (also for testing) should have been downloaded in [1_datagen.ipynb](1_datagen.ipynb).  \n",
    "Just in case, we will download it here again if it's not already present."
   ]
  },
  {
   "cell_type": "code",
   "execution_count": null,
   "metadata": {},
   "outputs": [],
   "source": [
    "download_and_extract_zip_file (\n",
    "    url       = 'http://csbdeep.bioimagecomputing.com/example_data/retina.zip',\n",
    "    targetdir = 'data',\n",
    ")"
   ]
  },
  {
   "cell_type": "markdown",
   "metadata": {},
   "source": [
    "<hr style=\"height:2px;\">\n",
    "\n",
    "# Raw 3D image stack with low axial resolution\n",
    "\n",
    "We plot XY and XZ slices of the stack and define the image axes and subsampling factor, which will be needed later for prediction."
   ]
  },
  {
   "cell_type": "code",
   "execution_count": null,
   "metadata": {},
   "outputs": [],
   "source": [
    "x = imread('data/retina/cropped_farred_RFP_GFP_2109175_2color_sub_10.20.tif')\n",
    "\n",
    "axes = 'ZCYX'\n",
    "subsample = 10.2\n",
    "print('image size         =', x.shape)\n",
    "print('image axes         =', axes)\n",
    "print('Z subsample factor =', subsample)\n",
    "\n",
    "plt.figure(figsize=(16,15))\n",
    "plot_some(np.moveaxis(x,1,-1)[[5,-5]],\n",
    "          title_list=[['XY slice','XY slice']],\n",
    "          pmin=2,pmax=99.8);\n",
    "\n",
    "plt.figure(figsize=(16,15))\n",
    "plot_some(np.moveaxis(np.moveaxis(x,1,-1)[:,[50,-50]],1,0),\n",
    "          title_list=[['XZ slice','XZ slice']],\n",
    "          pmin=2,pmax=99.8, aspect=subsample);"
   ]
  },
  {
   "cell_type": "markdown",
   "metadata": {},
   "source": [
    "<hr style=\"height:2px;\">\n",
    "\n",
    "# Isotropic CARE model\n",
    "\n",
    "Load trained model (located in base directory `models` with name `my_model`) from disk.  \n",
    "The configuration was saved during training and is automatically loaded when `IsotropicCARE` is initialized with `config=None`."
   ]
  },
  {
   "cell_type": "code",
   "execution_count": null,
   "metadata": {},
   "outputs": [],
   "source": [
    "model = IsotropicCARE(config=None, name='my_model', basedir='models')"
   ]
  },
  {
   "cell_type": "markdown",
   "metadata": {},
   "source": [
    "## Apply CARE network to raw image\n",
    "\n",
    "Predict the reconstructed image, which can take a while. If there are memory issues, reduce the parameter `batch_size`.  \n",
    "\n",
    "**Important:** You need to supply the subsampling factor, which must be the same as used during [training data generation](1_datagen.ipynb).\n",
    "\n",
    "**Note**: *Out of memory* problems during `model.predict` can also indicate that the GPU is used by another process. In particular, shut down the training notebook before running the prediction (you may need to restart this notebook)."
   ]
  },
  {
   "cell_type": "code",
   "execution_count": null,
   "metadata": {},
   "outputs": [],
   "source": [
    "%%time\n",
    "\n",
    "restored = model.predict(x, axes, subsample)\n",
    "\n",
    "print('input  size =', x.shape)\n",
    "print('output size =', restored.shape)\n",
    "print()"
   ]
  },
  {
   "cell_type": "markdown",
   "metadata": {},
   "source": [
    "<hr style=\"height:2px;\">\n",
    "\n",
    "# Isotropically reconstructed image via CARE network"
   ]
  },
  {
   "cell_type": "code",
   "execution_count": null,
   "metadata": {},
   "outputs": [],
   "source": [
    "nz, nx = 50, 50\n",
    "\n",
    "\n",
    "plt.figure(figsize=(16,15))\n",
    "plot_some([np.moveaxis(x[int(nz/subsample)],0,-1), np.moveaxis(restored[nz], 0,-1)],\n",
    "          title_list=[['input (XY)','restored (XY)']],\n",
    "          pmin=2,pmax=99.8);\n",
    "\n",
    "plt.figure(figsize=(16,15))\n",
    "plot_some([np.moveaxis(zoom(x[...,nx], (subsample,1,1)), 1,-1), np.moveaxis(restored[...,nx], 1,-1)],\n",
    "          title_list=[['input (YZ)','restored (YZ)']],\n",
    "          pmin=2,pmax=99.8);\n"
   ]
  },
  {
   "cell_type": "markdown",
   "metadata": {},
   "source": [
    "## Save reconstructed image\n",
    "\n",
    "Save the reconstructed image stack as a ImageJ-compatible TIFF image, i.e. the image can be opened in ImageJ/Fiji with correct axes semantics."
   ]
  },
  {
   "cell_type": "code",
   "execution_count": null,
   "metadata": {},
   "outputs": [],
   "source": [
    "Path('results').mkdir(exist_ok=True)\n",
    "save_tiff_imagej_compatible('results/%s_cropped_farred_RFP_GFP_2109175_2color_sub_10.20.tif' % model.name, restored, axes)"
   ]
  }
 ],
 "metadata": {
  "kernelspec": {
   "display_name": "Python 3",
   "language": "python",
   "name": "python3"
  },
  "language_info": {
   "codemirror_mode": {
    "name": "ipython",
    "version": 3
   },
   "file_extension": ".py",
   "mimetype": "text/x-python",
   "name": "python",
   "nbconvert_exporter": "python",
   "pygments_lexer": "ipython3",
   "version": "3.6.4"
  }
 },
 "nbformat": 4,
 "nbformat_minor": 2
}
